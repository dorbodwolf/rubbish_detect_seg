{
 "metadata": {
  "language_info": {
   "codemirror_mode": {
    "name": "ipython",
    "version": 3
   },
   "file_extension": ".py",
   "mimetype": "text/x-python",
   "name": "python",
   "nbconvert_exporter": "python",
   "pygments_lexer": "ipython3",
   "version": 3
  },
  "orig_nbformat": 2
 },
 "nbformat": 4,
 "nbformat_minor": 2,
 "cells": [
  {
   "source": [
    "## 技术路线\n",
    "1）基于语义分割的方法对高分辨率亚米级影像进行粗分类，类别包括植被、水体、人造物（建筑+道路）以及其他四类。  \n",
    "训练数据集整合自多个开源数据集。从"
   ],
   "cell_type": "markdown",
   "metadata": {}
  }
 ]
}