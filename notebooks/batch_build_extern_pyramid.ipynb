{
 "cells": [
  {
   "cell_type": "code",
   "execution_count": 10,
   "metadata": {},
   "outputs": [
    {
     "name": "stdout",
     "output_type": "stream",
     "text": [
      "['tile_K52E008005.TIF', 'tile_K52E009004.TIF', 'tile_K52E010004.TIF', 'tile_K52E011005.TIF', 'tile_K52E012004.TIF', 'tile_K52E013001.TIF', 'tile_K52E013002.TIF']\n"
     ]
    }
   ],
   "source": [
    "\"\"\"\n",
    "批量进行外建金字塔构建，如果影像已经有内建金字塔会导致创建失败\n",
    "\"\"\"\n",
    "import os\n",
    "\n",
    "image_path = r\"F:\\田德宇5st\\2020——三室自研\\固体废弃物\\数据\\白山市\"\n",
    "\n",
    "images = [file for file in os.listdir(image_path) if \"TIF\" in file]\n",
    "print(images)\n",
    "\n",
    "for img in images:\n",
    "    img_with_path = os.path.join(image_path, img)\n",
    "    os.system(\"gdaladdo -ro --config COMPRESS_OVERVIEW DEFLATE  --config GDAL_NUM_THREADS 16 {} 2 4 6 8 16\".format(img_with_path))\n",
    "\n"
   ]
  },
  {
   "cell_type": "code",
   "execution_count": null,
   "metadata": {},
   "outputs": [],
   "source": []
  }
 ],
 "metadata": {
  "kernelspec": {
   "display_name": "Python 3",
   "language": "python",
   "name": "python3"
  },
  "language_info": {
   "codemirror_mode": {
    "name": "ipython",
    "version": 3
   },
   "file_extension": ".py",
   "mimetype": "text/x-python",
   "name": "python",
   "nbconvert_exporter": "python",
   "pygments_lexer": "ipython3",
   "version": "3.7.8"
  }
 },
 "nbformat": 4,
 "nbformat_minor": 4
}
